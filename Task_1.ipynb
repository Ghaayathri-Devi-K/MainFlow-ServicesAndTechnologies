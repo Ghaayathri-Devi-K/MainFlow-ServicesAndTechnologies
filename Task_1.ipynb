{
  "nbformat": 4,
  "nbformat_minor": 0,
  "metadata": {
    "colab": {
      "provenance": []
    },
    "kernelspec": {
      "name": "python3",
      "display_name": "Python 3"
    },
    "language_info": {
      "name": "python"
    }
  },
  "cells": [
    {
      "cell_type": "markdown",
      "source": [
        "# **TASK 1**\n",
        "\n",
        "### Submitted By: Ghaayathri Devi K\n",
        "\n",
        "\n",
        "## Description:\n",
        "This task involves understanding the basic data\n",
        "types in Python such as lists, dictionaries, and\n",
        "sets.\n",
        "\n",
        "## Responsibility:\n",
        "Write a Python program to create a list, a\n",
        "dictionary, and a set. Perform basic operations\n",
        "like adding, removing, and modifying\n",
        "elements."
      ],
      "metadata": {
        "id": "9Y7hVgZII6jU"
      }
    },
    {
      "cell_type": "markdown",
      "source": [
        "## List Operations"
      ],
      "metadata": {
        "id": "8SqnJkgXJlFa"
      }
    },
    {
      "cell_type": "code",
      "source": [
        "# Creating a list\n",
        "\n",
        "lst = list([\"Tamil Nadu\", \"Karnataka\", \"Kerala\", \"Andhra Pradesh\", \"Telungana\", \"Mumbai\"])\n",
        "print(lst)"
      ],
      "metadata": {
        "colab": {
          "base_uri": "https://localhost:8080/"
        },
        "id": "Uz2n6HWaJbLi",
        "outputId": "10c4cda8-2d52-4ec2-8559-587d5dbd996e"
      },
      "execution_count": 8,
      "outputs": [
        {
          "output_type": "stream",
          "name": "stdout",
          "text": [
            "['Tamil Nadu', 'Karnataka', 'Kerala', 'Andhra Pradesh', 'Telungana', 'Mumbai']\n"
          ]
        }
      ]
    },
    {
      "cell_type": "code",
      "source": [
        "# Adding a single element\n",
        "\n",
        "lst.append(\"West Bengal\")\n",
        "print(lst)"
      ],
      "metadata": {
        "colab": {
          "base_uri": "https://localhost:8080/"
        },
        "id": "HSMkW8oPJ1bU",
        "outputId": "6abadc57-e657-40af-b647-eef3691fdfb3"
      },
      "execution_count": 9,
      "outputs": [
        {
          "output_type": "stream",
          "name": "stdout",
          "text": [
            "['Tamil Nadu', 'Karnataka', 'Kerala', 'Andhra Pradesh', 'Telungana', 'Mumbai', 'West Bengal']\n"
          ]
        }
      ]
    },
    {
      "cell_type": "code",
      "source": [
        "# Adding multiple elements\n",
        "lst.extend([\"Goa\", \"Bihar\"])\n",
        "print(lst)"
      ],
      "metadata": {
        "colab": {
          "base_uri": "https://localhost:8080/"
        },
        "id": "sfWqOUL7KBch",
        "outputId": "3cf86ae2-2618-48f8-e17e-fa1edea9a967"
      },
      "execution_count": 10,
      "outputs": [
        {
          "output_type": "stream",
          "name": "stdout",
          "text": [
            "['Tamil Nadu', 'Karnataka', 'Kerala', 'Andhra Pradesh', 'Telungana', 'Mumbai', 'West Bengal', 'Goa', 'Bihar']\n"
          ]
        }
      ]
    },
    {
      "cell_type": "code",
      "source": [
        "# Concatenate 2 lists\n",
        "lst2 = [\"Uttar Pradesh\", \"Madhya Pradesh\"]\n",
        "lst3 = lst + lst2\n",
        "print(lst3)"
      ],
      "metadata": {
        "colab": {
          "base_uri": "https://localhost:8080/"
        },
        "id": "MxweUW6fKLaJ",
        "outputId": "a58f1541-31d6-4144-ccf5-6eee18a57001"
      },
      "execution_count": 11,
      "outputs": [
        {
          "output_type": "stream",
          "name": "stdout",
          "text": [
            "['Tamil Nadu', 'Karnataka', 'Kerala', 'Andhra Pradesh', 'Telungana', 'Mumbai', 'West Bengal', 'Goa', 'Bihar', 'Uttar Pradesh', 'Madhya Pradesh']\n"
          ]
        }
      ]
    },
    {
      "cell_type": "code",
      "source": [
        "# Removing elements from the list\n",
        "lst3.remove(\"Goa\")\n",
        "print(lst3)"
      ],
      "metadata": {
        "colab": {
          "base_uri": "https://localhost:8080/"
        },
        "id": "zcnxZZP6KRHN",
        "outputId": "8e6b419f-2453-4be3-b1ef-8a207f056c57"
      },
      "execution_count": 12,
      "outputs": [
        {
          "output_type": "stream",
          "name": "stdout",
          "text": [
            "['Tamil Nadu', 'Karnataka', 'Kerala', 'Andhra Pradesh', 'Telungana', 'Mumbai', 'West Bengal', 'Bihar', 'Uttar Pradesh', 'Madhya Pradesh']\n"
          ]
        }
      ]
    },
    {
      "cell_type": "code",
      "source": [
        "lst3.pop(2)\n",
        "print(lst3)"
      ],
      "metadata": {
        "colab": {
          "base_uri": "https://localhost:8080/"
        },
        "id": "yN6s4IBsKZjj",
        "outputId": "0af95d77-d96d-4640-abfa-59e3f782db8d"
      },
      "execution_count": 13,
      "outputs": [
        {
          "output_type": "stream",
          "name": "stdout",
          "text": [
            "['Tamil Nadu', 'Karnataka', 'Andhra Pradesh', 'Telungana', 'Mumbai', 'West Bengal', 'Bihar', 'Uttar Pradesh', 'Madhya Pradesh']\n"
          ]
        }
      ]
    },
    {
      "cell_type": "code",
      "source": [
        "# Modifying elements in a list\n",
        "lst3[5] = \"Punjab\"\n",
        "print(lst3)"
      ],
      "metadata": {
        "colab": {
          "base_uri": "https://localhost:8080/"
        },
        "id": "6mM32U8VKiW7",
        "outputId": "c79b8461-d884-44dd-d411-5eeb486696fd"
      },
      "execution_count": 14,
      "outputs": [
        {
          "output_type": "stream",
          "name": "stdout",
          "text": [
            "['Tamil Nadu', 'Karnataka', 'Andhra Pradesh', 'Telungana', 'Mumbai', 'Punjab', 'Bihar', 'Uttar Pradesh', 'Madhya Pradesh']\n"
          ]
        }
      ]
    },
    {
      "cell_type": "markdown",
      "source": [
        "## Set Operations"
      ],
      "metadata": {
        "id": "2VRmz3g4KvQd"
      }
    },
    {
      "cell_type": "code",
      "source": [
        "# Creating a set\n",
        "S = set({\"Tamil Nadu\", \"Karnataka\", \"Kerala\", \"Andhra Pradesh\", \"Telungana\", \"Mumbai\", \"Andhra Pradesh\", \"Telungana\",\"Karnataka\", \"Kerala\"})\n",
        "print(S)"
      ],
      "metadata": {
        "colab": {
          "base_uri": "https://localhost:8080/"
        },
        "id": "cim0CsERKyAx",
        "outputId": "b6e27dd4-57bf-4bc7-ee4b-4875c4a8dcb4"
      },
      "execution_count": 17,
      "outputs": [
        {
          "output_type": "stream",
          "name": "stdout",
          "text": [
            "{'Andhra Pradesh', 'Mumbai', 'Kerala', 'Telungana', 'Tamil Nadu', 'Karnataka'}\n"
          ]
        }
      ]
    },
    {
      "cell_type": "code",
      "source": [
        "# Adding an element into a set\n",
        "S.add(\"West Bengal\")\n",
        "print(S)"
      ],
      "metadata": {
        "colab": {
          "base_uri": "https://localhost:8080/"
        },
        "id": "cjyXl9wnLQvl",
        "outputId": "28d1efb8-f980-4214-ebf1-ce6d893b259b"
      },
      "execution_count": 18,
      "outputs": [
        {
          "output_type": "stream",
          "name": "stdout",
          "text": [
            "{'Andhra Pradesh', 'Mumbai', 'Kerala', 'Telungana', 'Tamil Nadu', 'Karnataka', 'West Bengal'}\n"
          ]
        }
      ]
    },
    {
      "cell_type": "code",
      "source": [
        "# Adding more than 1 element in a set\n",
        "S.union(\"Goa\", \"Bihar\")\n",
        "print(S)"
      ],
      "metadata": {
        "colab": {
          "base_uri": "https://localhost:8080/"
        },
        "id": "UCkR32DeLfhT",
        "outputId": "aadea8e2-120d-4036-e262-3608cdf36dc8"
      },
      "execution_count": 19,
      "outputs": [
        {
          "output_type": "stream",
          "name": "stdout",
          "text": [
            "{'Andhra Pradesh', 'Mumbai', 'Kerala', 'Telungana', 'Tamil Nadu', 'Karnataka', 'West Bengal'}\n"
          ]
        }
      ]
    },
    {
      "cell_type": "code",
      "source": [
        "# Getting the common elements\n",
        "S2 = {'Andhra Pradesh', 'Mumbai', 'Kerala', 'Telungana',\"Puducherry\",\"Lakshadweep\"}\n",
        "S3 = S.intersection(S2)\n",
        "print(S3)"
      ],
      "metadata": {
        "colab": {
          "base_uri": "https://localhost:8080/"
        },
        "id": "SmW2FH6vLm_n",
        "outputId": "670b9a9d-6ae9-4f7f-f98f-a8d56f077dad"
      },
      "execution_count": 23,
      "outputs": [
        {
          "output_type": "stream",
          "name": "stdout",
          "text": [
            "{'Andhra Pradesh', 'Mumbai', 'Kerala', 'Telungana'}\n"
          ]
        }
      ]
    },
    {
      "cell_type": "code",
      "source": [
        "# Getting left common elements\n",
        "S4 = S-S2\n",
        "print(S4)"
      ],
      "metadata": {
        "colab": {
          "base_uri": "https://localhost:8080/"
        },
        "id": "Uny0AdUnLy5W",
        "outputId": "65a00b96-1149-4c29-a8a9-cd218a89a7ec"
      },
      "execution_count": 25,
      "outputs": [
        {
          "output_type": "stream",
          "name": "stdout",
          "text": [
            "{'Tamil Nadu', 'Karnataka', 'West Bengal'}\n"
          ]
        }
      ]
    },
    {
      "cell_type": "code",
      "source": [
        "# Removing elements from a set\n",
        "S.remove(\"Karnataka\")\n",
        "print(S)"
      ],
      "metadata": {
        "colab": {
          "base_uri": "https://localhost:8080/"
        },
        "id": "pkN2eURSMQxT",
        "outputId": "dc60c414-18b3-4cb9-9fbb-c8bf29c77142"
      },
      "execution_count": 26,
      "outputs": [
        {
          "output_type": "stream",
          "name": "stdout",
          "text": [
            "{'Andhra Pradesh', 'Mumbai', 'Kerala', 'Telungana', 'Tamil Nadu', 'West Bengal'}\n"
          ]
        }
      ]
    },
    {
      "cell_type": "markdown",
      "source": [
        "## Dictionary Operations"
      ],
      "metadata": {
        "id": "IFcp_idUMbu_"
      }
    },
    {
      "cell_type": "code",
      "source": [
        "# Create a dictionary\n",
        "\n",
        "my_dict = {\"Name\": \"Ghaayathri Devi K\",\n",
        "           \"Age\": 21,\n",
        "           \"Gender\": \"Female\",\n",
        "           \"Qualification\": \"B.Tech\",\n",
        "           \"College\": \"Amrita Vishwa Vidyapeetham\",\n",
        "           \"DOB\": 2002}\n",
        "\n",
        "print(my_dict)"
      ],
      "metadata": {
        "colab": {
          "base_uri": "https://localhost:8080/"
        },
        "id": "m85E6dpmMePE",
        "outputId": "2c4ee958-baaa-4cd9-ca6a-8d0c8f951c4b"
      },
      "execution_count": 28,
      "outputs": [
        {
          "output_type": "stream",
          "name": "stdout",
          "text": [
            "{'Name': 'Ghaayathri Devi K', 'Age': 21, 'Gender': 'Female', 'Qualification': 'B.Tech', 'College': 'Amrita Vishwa Vidyapeetham', 'DOB': 2002}\n"
          ]
        }
      ]
    },
    {
      "cell_type": "code",
      "source": [
        "# Get Key values\n",
        "my_dict.keys()"
      ],
      "metadata": {
        "colab": {
          "base_uri": "https://localhost:8080/"
        },
        "id": "f_zJsK4OM6hs",
        "outputId": "1edc9f8f-ebf6-4223-fcad-1ac120a8e8d5"
      },
      "execution_count": 29,
      "outputs": [
        {
          "output_type": "execute_result",
          "data": {
            "text/plain": [
              "dict_keys(['Name', 'Age', 'Gender', 'Qualification', 'College', 'DOB'])"
            ]
          },
          "metadata": {},
          "execution_count": 29
        }
      ]
    },
    {
      "cell_type": "code",
      "source": [
        "for i in my_dict:\n",
        "  print(i)"
      ],
      "metadata": {
        "colab": {
          "base_uri": "https://localhost:8080/"
        },
        "id": "S5NXud6HNHX6",
        "outputId": "f59b42a9-524e-4178-feb9-14c09e00ed7e"
      },
      "execution_count": 31,
      "outputs": [
        {
          "output_type": "stream",
          "name": "stdout",
          "text": [
            "Name\n",
            "Age\n",
            "Gender\n",
            "Qualification\n",
            "College\n",
            "DOB\n"
          ]
        }
      ]
    },
    {
      "cell_type": "code",
      "source": [
        "# Get Values\n",
        "my_dict.values()"
      ],
      "metadata": {
        "colab": {
          "base_uri": "https://localhost:8080/"
        },
        "id": "R177O71xNB3M",
        "outputId": "c696b9e5-1de3-43d0-b862-0ad966188ac5"
      },
      "execution_count": 30,
      "outputs": [
        {
          "output_type": "execute_result",
          "data": {
            "text/plain": [
              "dict_values(['Ghaayathri Devi K', 21, 'Female', 'B.Tech', 'Amrita Vishwa Vidyapeetham', 2002])"
            ]
          },
          "metadata": {},
          "execution_count": 30
        }
      ]
    },
    {
      "cell_type": "code",
      "source": [
        "for j in my_dict:\n",
        "  print(my_dict[j])"
      ],
      "metadata": {
        "colab": {
          "base_uri": "https://localhost:8080/"
        },
        "id": "LPkMHdBLNEuN",
        "outputId": "df512e1a-b721-4248-b94e-fd62cb21da4a"
      },
      "execution_count": 32,
      "outputs": [
        {
          "output_type": "stream",
          "name": "stdout",
          "text": [
            "Ghaayathri Devi K\n",
            "21\n",
            "Female\n",
            "B.Tech\n",
            "Amrita Vishwa Vidyapeetham\n",
            "2002\n"
          ]
        }
      ]
    },
    {
      "cell_type": "code",
      "source": [
        "# Get key-value pairs\n",
        "for i, j in my_dict.items():\n",
        "  print(i, j)"
      ],
      "metadata": {
        "colab": {
          "base_uri": "https://localhost:8080/"
        },
        "id": "6EQ5Q6oCNPdu",
        "outputId": "a7066dcf-6642-4ee2-c176-00847b67e80c"
      },
      "execution_count": 33,
      "outputs": [
        {
          "output_type": "stream",
          "name": "stdout",
          "text": [
            "Name Ghaayathri Devi K\n",
            "Age 21\n",
            "Gender Female\n",
            "Qualification B.Tech\n",
            "College Amrita Vishwa Vidyapeetham\n",
            "DOB 2002\n"
          ]
        }
      ]
    },
    {
      "cell_type": "code",
      "source": [
        "# Add element into a dictionary\n",
        "my_dict[\"Marital Status\"] = \"Single\"\n",
        "print(my_dict)"
      ],
      "metadata": {
        "colab": {
          "base_uri": "https://localhost:8080/"
        },
        "id": "H151fN2iNUCK",
        "outputId": "5f25fcb5-2d69-41e0-816f-17ed32033caa"
      },
      "execution_count": 34,
      "outputs": [
        {
          "output_type": "stream",
          "name": "stdout",
          "text": [
            "{'Name': 'Ghaayathri Devi K', 'Age': 21, 'Gender': 'Female', 'Qualification': 'B.Tech', 'College': 'Amrita Vishwa Vidyapeetham', 'DOB': 2002, 'Marital Status': 'Single'}\n"
          ]
        }
      ]
    },
    {
      "cell_type": "code",
      "source": [
        "# Remove element from a dictionary\n",
        "my_dict.pop(\"Age\")\n",
        "print(my_dict)"
      ],
      "metadata": {
        "colab": {
          "base_uri": "https://localhost:8080/"
        },
        "id": "wYOSqR0JNf-p",
        "outputId": "74532dac-4c41-4669-a017-23490a0909f7"
      },
      "execution_count": 36,
      "outputs": [
        {
          "output_type": "stream",
          "name": "stdout",
          "text": [
            "{'Name': 'Ghaayathri Devi K', 'Gender': 'Female', 'Qualification': 'B.Tech', 'College': 'Amrita Vishwa Vidyapeetham', 'DOB': 2002, 'Marital Status': 'Single'}\n"
          ]
        }
      ]
    }
  ]
}